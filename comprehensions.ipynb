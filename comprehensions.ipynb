{
 "cells": [
  {
   "cell_type": "markdown",
   "metadata": {},
   "source": [
    "### Comprehensions\n",
    "\n",
    "* forma mais concisa de gerar coleções em apenas uma linha de código\n",
    "* podem conter testes lógicos\n",
    "* podem utilizar expressões lambdas\n",
    "\n",
    "\n",
    "### Aplicações:\n",
    "\n",
    "* maior facilidade de escrever código\n",
    "* podem substituir loops, map() e filter() em muitas situações\n",
    "* podem ser muito perfomáticos"
   ]
  },
  {
   "cell_type": "markdown",
   "metadata": {},
   "source": [
    "### Lista comprehensions"
   ]
  },
  {
   "cell_type": "code",
   "execution_count": 2,
   "metadata": {},
   "outputs": [],
   "source": [
    "# Primeiro exemplo de como criar uma lista de 0 a 9\n",
    "lista = []\n",
    "for i in range(10):\n",
    "    lista.append(i)"
   ]
  },
  {
   "cell_type": "code",
   "execution_count": 3,
   "metadata": {},
   "outputs": [
    {
     "name": "stdout",
     "output_type": "stream",
     "text": [
      "[0, 1, 2, 3, 4, 5, 6, 7, 8, 9]\n"
     ]
    }
   ],
   "source": [
    "print(lista)"
   ]
  },
  {
   "cell_type": "code",
   "execution_count": 4,
   "metadata": {},
   "outputs": [
    {
     "name": "stdout",
     "output_type": "stream",
     "text": [
      "[0, 1, 2, 3, 4, 5, 6, 7, 8, 9]\n"
     ]
    }
   ],
   "source": [
    "# Segundo exemplo de como criar uma lista de 0 a 9\n",
    "\n",
    "lista = list(range(10))\n",
    "print(lista)"
   ]
  },
  {
   "cell_type": "code",
   "execution_count": 5,
   "metadata": {},
   "outputs": [
    {
     "data": {
      "text/plain": [
       "[0, 1, 2, 3, 4, 5, 6, 7, 8, 9]"
      ]
     },
     "execution_count": 5,
     "metadata": {},
     "output_type": "execute_result"
    }
   ],
   "source": [
    "# Criar lista ocm list comprehensions\n",
    "[numero for numero in range(10)]"
   ]
  },
  {
   "cell_type": "code",
   "execution_count": 10,
   "metadata": {},
   "outputs": [
    {
     "name": "stdout",
     "output_type": "stream",
     "text": [
      "['S', 'U', 'S', 'I', 'E', ' ', 'A', 'M', 'A', 'N', 'D', 'A', ' ', 'D', 'E', ' ', 'C', 'A', 'S', 'T', 'R', 'O']\n"
     ]
    }
   ],
   "source": [
    "# Exemplo de nomes - criando lista sem list comprehensions\n",
    "# Colocar cada letra em maiusculo .upper() depois da variavel nome\n",
    "\n",
    "nome ='Susie Amanda de Castro'\n",
    "print(list(nome.upper()))"
   ]
  },
  {
   "cell_type": "code",
   "execution_count": 14,
   "metadata": {},
   "outputs": [
    {
     "name": "stdout",
     "output_type": "stream",
     "text": [
      "['Ss', 'Uu', 'Ss', 'Ii', 'Ee', '  ', 'Aa', 'Mm', 'Aa', 'Nn', 'Dd', 'Aa', '  ', 'Dd', 'Ee', '  ', 'Cc', 'Aa', 'Ss', 'Tt', 'Rr', 'Oo']\n"
     ]
    }
   ],
   "source": [
    "# Criar lista do nome completo com list comprehensions\n",
    "nome ='Susie Amanda de Castro'\n",
    "print([letra.upper() + letra.lower() for letra in nome])"
   ]
  },
  {
   "cell_type": "markdown",
   "metadata": {},
   "source": [
    "### Utilizando testes lógicos"
   ]
  },
  {
   "cell_type": "code",
   "execution_count": 1,
   "metadata": {},
   "outputs": [
    {
     "name": "stdout",
     "output_type": "stream",
     "text": [
      "[0, 1, 2, 3, 4, 5, 6, 7, 8, 9, 10, 11, 12, 13, 14, 15, 16, 17, 18, 19, 20, 21, 22, 23, 24, 25, 26, 27, 28, 29, 30, 31, 32, 33, 34, 35, 36, 37, 38, 39, 40, 41, 42, 43, 44, 45, 46, 47, 48, 49, 50, 51, 52, 53, 54, 55, 56, 57, 58, 59, 60, 61, 62, 63, 64, 65, 66, 67, 68, 69, 70, 71, 72, 73, 74, 75, 76, 77, 78, 79, 80, 81, 82, 83, 84, 85, 86, 87, 88, 89, 90, 91, 92, 93, 94, 95, 96, 97, 98, 99]\n"
     ]
    }
   ],
   "source": [
    "#\n",
    "\n",
    "lista = list(range(100))\n",
    "print(lista)"
   ]
  },
  {
   "cell_type": "code",
   "execution_count": 3,
   "metadata": {},
   "outputs": [
    {
     "name": "stdout",
     "output_type": "stream",
     "text": [
      "[1, 3, 5, 7, 9, 11, 13, 15, 17, 19, 21, 23, 25, 27, 29, 31, 33, 35, 37, 39, 41, 43, 45, 47, 49, 51, 53, 55, 57, 59, 61, 63, 65, 67, 69, 71, 73, 75, 77, 79, 81, 83, 85, 87, 89, 91, 93, 95, 97, 99]\n"
     ]
    }
   ],
   "source": [
    "# Filtrando números impares\n",
    "\n",
    "print([impar for impar in lista if impar % 2 !=0])\n"
   ]
  },
  {
   "cell_type": "code",
   "execution_count": 5,
   "metadata": {},
   "outputs": [
    {
     "name": "stdout",
     "output_type": "stream",
     "text": [
      "[0.0, 2, 1.0, 6, 2.0, 10, 3.0, 14, 4.0, 18, 5.0, 22, 6.0, 26, 7.0, 30, 8.0, 34, 9.0, 38, 10.0, 42, 11.0, 46, 12.0, 50, 13.0, 54, 14.0, 58, 15.0, 62, 16.0, 66, 17.0, 70, 18.0, 74, 19.0, 78, 20.0, 82, 21.0, 86, 22.0, 90, 23.0, 94, 24.0, 98, 25.0, 102, 26.0, 106, 27.0, 110, 28.0, 114, 29.0, 118, 30.0, 122, 31.0, 126, 32.0, 130, 33.0, 134, 34.0, 138, 35.0, 142, 36.0, 146, 37.0, 150, 38.0, 154, 39.0, 158, 40.0, 162, 41.0, 166, 42.0, 170, 43.0, 174, 44.0, 178, 45.0, 182, 46.0, 186, 47.0, 190, 48.0, 194, 49.0, 198]\n"
     ]
    }
   ],
   "source": [
    "# Se o número for par, será dividido por 2, se for impar será multiplicado por 2\n",
    "\n",
    "print([numero / 2 if numero % 2 == 0 else numero * 2 for numero in lista])"
   ]
  },
  {
   "cell_type": "code",
   "execution_count": 6,
   "metadata": {},
   "outputs": [
    {
     "name": "stdout",
     "output_type": "stream",
     "text": [
      "['Eu', 'estou', 'estudando', 'a', 'linguagem', 'Python']\n"
     ]
    }
   ],
   "source": [
    "nome ='Eu estou estudando a linguagem Python'\n",
    "print([palavra for palavra in nome.split()])"
   ]
  },
  {
   "cell_type": "markdown",
   "metadata": {},
   "source": [
    "### Dict comprehensions"
   ]
  },
  {
   "cell_type": "code",
   "execution_count": 1,
   "metadata": {},
   "outputs": [
    {
     "name": "stdout",
     "output_type": "stream",
     "text": [
      "[0, 1, 2, 3, 4, 5, 6, 7, 8, 9, 10, 11, 12, 13, 14, 15, 16, 17, 18, 19]\n"
     ]
    }
   ],
   "source": [
    "lista = list(range(20))\n",
    "print(lista)"
   ]
  },
  {
   "cell_type": "code",
   "execution_count": 2,
   "metadata": {},
   "outputs": [
    {
     "data": {
      "text/plain": [
       "{0: 0,\n",
       " 1: 1,\n",
       " 2: 2,\n",
       " 3: 3,\n",
       " 4: 4,\n",
       " 5: 5,\n",
       " 6: 6,\n",
       " 7: 7,\n",
       " 8: 8,\n",
       " 9: 9,\n",
       " 10: 10,\n",
       " 11: 11,\n",
       " 12: 12,\n",
       " 13: 13,\n",
       " 14: 14,\n",
       " 15: 15,\n",
       " 16: 16,\n",
       " 17: 17,\n",
       " 18: 18,\n",
       " 19: 19}"
      ]
     },
     "execution_count": 2,
     "metadata": {},
     "output_type": "execute_result"
    }
   ],
   "source": [
    "# Parar criar um Dict comprehensions se usa chaves {} e acrescenta chave e valor\n",
    "\n",
    "{numero: numero for numero in lista}"
   ]
  },
  {
   "cell_type": "code",
   "execution_count": 5,
   "metadata": {},
   "outputs": [
    {
     "name": "stdout",
     "output_type": "stream",
     "text": [
      "{'numero: 0': 0, 'numero: 1': 1, 'numero: 2': 2, 'numero: 3': 3, 'numero: 4': 4, 'numero: 5': 5, 'numero: 6': 6, 'numero: 7': 7, 'numero: 8': 8, 'numero: 9': 9, 'numero: 10': 10, 'numero: 11': 11, 'numero: 12': 12, 'numero: 13': 13, 'numero: 14': 14, 'numero: 15': 15, 'numero: 16': 16, 'numero: 17': 17, 'numero: 18': 18, 'numero: 19': 19}\n"
     ]
    }
   ],
   "source": [
    "print({f'numero: ' + str(numero): numero for numero in lista})"
   ]
  },
  {
   "cell_type": "code",
   "execution_count": 8,
   "metadata": {},
   "outputs": [
    {
     "data": {
      "text/plain": [
       "{'Fernando': 10,\n",
       " 'Susie': 8.5,\n",
       " 'Maura': 7.9,\n",
       " 'Manoel': 6.4,\n",
       " 'Natália': 9.5,\n",
       " 'Marcelle': 9.5,\n",
       " 'Luis': 7,\n",
       " 'Rogério': 8}"
      ]
     },
     "execution_count": 8,
     "metadata": {},
     "output_type": "execute_result"
    }
   ],
   "source": [
    "# Exemplo\n",
    "alunos = ['Fernando', 'Susie', 'Maura', 'Manoel', 'Natália', 'Marcelle', 'Luis', 'Rogério']\n",
    "notas = [10, 8.5, 7.9, 6.4, 9.5, 9.5, 7, 8]\n",
    "\n",
    "{alunos[indice]: notas[indice] for indice in range(len(alunos))}"
   ]
  },
  {
   "cell_type": "markdown",
   "metadata": {},
   "source": [
    "### Set comprehensions"
   ]
  },
  {
   "cell_type": "code",
   "execution_count": 10,
   "metadata": {},
   "outputs": [
    {
     "name": "stdout",
     "output_type": "stream",
     "text": [
      "[0, 1, 2, 3, 4, 5, 6, 7, 8, 9]\n"
     ]
    }
   ],
   "source": [
    "lista = list(range(10))\n",
    "print(lista)"
   ]
  },
  {
   "cell_type": "code",
   "execution_count": 11,
   "metadata": {},
   "outputs": [
    {
     "data": {
      "text/plain": [
       "{0, 1, 2, 3, 4, 5, 6, 7, 8, 9}"
      ]
     },
     "execution_count": 11,
     "metadata": {},
     "output_type": "execute_result"
    }
   ],
   "source": [
    "{numero for numero in lista}"
   ]
  },
  {
   "cell_type": "code",
   "execution_count": 12,
   "metadata": {},
   "outputs": [
    {
     "data": {
      "text/plain": [
       "set"
      ]
     },
     "execution_count": 12,
     "metadata": {},
     "output_type": "execute_result"
    }
   ],
   "source": [
    "type({numero for numero in lista})"
   ]
  },
  {
   "cell_type": "code",
   "execution_count": 15,
   "metadata": {},
   "outputs": [],
   "source": [
    "nome = 'susie'"
   ]
  },
  {
   "cell_type": "code",
   "execution_count": 17,
   "metadata": {},
   "outputs": [
    {
     "data": {
      "text/plain": [
       "{'e', 'i', 's', 'u'}"
      ]
     },
     "execution_count": 17,
     "metadata": {},
     "output_type": "execute_result"
    }
   ],
   "source": [
    "# Conjuntos não tem elementos repetidos\n",
    "{letra for letra in nome}"
   ]
  },
  {
   "cell_type": "code",
   "execution_count": null,
   "metadata": {},
   "outputs": [],
   "source": []
  }
 ],
 "metadata": {
  "kernelspec": {
   "display_name": "base",
   "language": "python",
   "name": "python3"
  },
  "language_info": {
   "codemirror_mode": {
    "name": "ipython",
    "version": 3
   },
   "file_extension": ".py",
   "mimetype": "text/x-python",
   "name": "python",
   "nbconvert_exporter": "python",
   "pygments_lexer": "ipython3",
   "version": "3.11.5"
  }
 },
 "nbformat": 4,
 "nbformat_minor": 2
}
